{
 "cells": [
  {
   "cell_type": "code",
   "execution_count": null,
   "metadata": {
    "collapsed": true
   },
   "outputs": [],
   "source": [
    "from sklearn.metrics import mean_squared_error\n",
    "from sklearn import linear_model\n",
    "from sklearn.model_selection import train_test_split\n",
    "import numpy as np\n",
    "import getData\n",
    "import matplotlib.pyplot as plt\n",
    "\n",
    "\n",
    "(X, y) = getData.loadTrain()\n",
    "X_final = getData.loadTest()\n",
    "\n",
    "# RMSE = mean_squared_error(y, y_pred) ** 0.5\n",
    "\n",
    "# print(RMSE)"
   ]
  },
  {
   "cell_type": "code",
   "execution_count": 29,
   "metadata": {
    "collapsed": false
   },
   "outputs": [
    {
     "name": "stdout",
     "output_type": "stream",
     "text": [
      "Coefficients: [ 0.1  0.1  0.1  0.1  0.1  0.1  0.1  0.1  0.1  0.1]\n",
      "RMSE: 2.5489259442982975e-13\n",
      "Variance score: 1.0\n"
     ]
    }
   ],
   "source": [
    "X_train, X_test, y_train, y_test = train_test_split(\n",
    "    X, y, test_size=0.2, random_state=1)\n",
    "\n",
    "regr = linear_model.LinearRegression()\n",
    "regr.fit(X_train, y_train)\n",
    "\n",
    "# Coefficients\n",
    "print('Coefficients: {}'.format(regr.coef_))\n",
    "# The mean squared error\n",
    "print(\"RMSE: {}\".format(mean_squared_error(y_test, regr.predict(X_test)) ** 0.5))\n",
    "\n",
    "# Explained variance score: 1 is perfect prediction\n",
    "print('Variance score: {}'.format(regr.score(X_test, y_test)))"
   ]
  },
  {
   "cell_type": "code",
   "execution_count": 17,
   "metadata": {
    "collapsed": false
   },
   "outputs": [],
   "source": [
    "prediction = [\"Id,y\"]\n",
    "for i in range(0, len(X_final)-1):\n",
    "    pred = regr.predict(X_final[1].reshape(1,-1))\n",
    "    str1 = ''.join(str(e) for e in pred)\n",
    "    \n",
    "    prediction.append(str(i + 1) + \",\" + str1)\n",
    "\n",
    "np.savetxt('prediction.csv', prediction, delimiter=\"\\n\", fmt=\"%s\")"
   ]
  }
 ],
 "metadata": {
  "kernelspec": {
   "display_name": "Python 3",
   "language": "python",
   "name": "python3"
  },
  "language_info": {
   "codemirror_mode": {
    "name": "ipython",
    "version": 3.0
   },
   "file_extension": ".py",
   "mimetype": "text/x-python",
   "name": "python",
   "nbconvert_exporter": "python",
   "pygments_lexer": "ipython3",
   "version": "3.6.0"
  }
 },
 "nbformat": 4,
 "nbformat_minor": 0
}