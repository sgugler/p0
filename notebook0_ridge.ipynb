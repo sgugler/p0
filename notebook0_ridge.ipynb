{
 "cells": [
  {
   "cell_type": "code",
   "execution_count": 2,
   "metadata": {
    "collapsed": true
   },
   "outputs": [],
   "source": [
    "from sklearn.metrics import mean_squared_error\n",
    "from sklearn import linear_model\n",
    "from sklearn.model_selection import train_test_split\n",
    "\n",
    "import numpy as np\n",
    "import getData\n",
    "import matplotlib.pyplot as plt\n",
    "\n",
    "\n",
    "(X, y) = getData.loadTrain()\n",
    "X_final = getData.loadTest()"
   ]
  },
  {
   "cell_type": "code",
   "execution_count": 11,
   "metadata": {
    "collapsed": false
   },
   "outputs": [
    {
     "name": "stdout",
     "output_type": "stream",
     "text": [
      "Coefficients: [ 0.10000322  0.1000122   0.10000742  0.10001095  0.10001656  0.09999478\n",
      "  0.10000774  0.10001469  0.099988    0.09999235]\n",
      "RMSE: 0.03462678553122222\n",
      "Variance score: 0.9999999869828166\n"
     ]
    }
   ],
   "source": [
    "X_train, X_test, y_train, y_test = train_test_split(\n",
    "    X, y, test_size=0.2, random_state=1)\n",
    "\n",
    "regr = linear_model.LinearRegression()\n",
    "regr.fit(X_train, y_train)\n",
    "\n",
    "ridge = linear_model.RidgeCV()\n",
    "ridge.fit(X_train, y_train)\n",
    "\n",
    "# Coefficients\n",
    "print('Coefficients: {}'.format(ridge.coef_))\n",
    "# The mean squared error\n",
    "print(\"RMSE: {}\".format(mean_squared_error(y_test, ridge.predict(X_test)) ** 0.5))\n",
    "\n",
    "# Explained variance score: 1 is perfect prediction\n",
    "print('Variance score: {}'.format(ridge.score(X_test, y_test)))"
   ]
  },
  {
   "cell_type": "code",
   "execution_count": 10,
   "metadata": {
    "collapsed": false
   },
   "outputs": [],
   "source": [
    "prediction = [\"Id,y\"]\n",
    "for i in range(0, len(X_final)):\n",
    "    pred = regr.predict(X_final[i].reshape(1,-1))\n",
    "    str1 = ''.join(str(e) for e in pred)\n",
    "    \n",
    "    prediction.append(str(i + 10000) + \",\" + str1)\n",
    "\n",
    "np.savetxt('prediction_ridge.csv', prediction, delimiter=\"\\n\", fmt=\"%s\")"
   ]
  }
 ],
 "metadata": {
  "kernelspec": {
   "display_name": "Python 3",
   "language": "python",
   "name": "python3"
  },
  "language_info": {
   "codemirror_mode": {
    "name": "ipython",
    "version": 3
   },
   "file_extension": ".py",
   "mimetype": "text/x-python",
   "name": "python",
   "nbconvert_exporter": "python",
   "pygments_lexer": "ipython3",
   "version": "3.6.0"
  }
 },
 "nbformat": 4,
 "nbformat_minor": 0
}
